{
 "cells": [
  {
   "cell_type": "code",
   "execution_count": 15,
   "id": "346fdaac-007a-4f74-9f98-96f1fec2925b",
   "metadata": {},
   "outputs": [],
   "source": [
    "import pandas as pd\n",
    "from sklearn.model_selection import train_test_split\n",
    "from sklearn.preprocessing import LabelEncoder\n",
    "from sklearn.linear_model import LinearRegression\n",
    "from sklearn.tree import DecisionTreeRegressor\n",
    "from sklearn.ensemble import RandomForestRegressor\n",
    "import numpy as np\n",
    "from sklearn.metrics import accuracy_score\n",
    "from sklearn.compose import ColumnTransformer\n",
    "from sklearn.pipeline import Pipeline\n",
    "from sklearn.preprocessing import OneHotEncoder\n",
    "import joblib"
   ]
  },
  {
   "cell_type": "code",
   "execution_count": 8,
   "id": "865ae087-aec3-4d8f-b575-cb1c53a50b51",
   "metadata": {},
   "outputs": [],
   "source": [
    "data = pd.read_csv('StudentsPerformance.csv')"
   ]
  },
  {
   "cell_type": "code",
   "execution_count": 9,
   "id": "d32119fa-8fa5-48de-a9eb-94b29a9ace33",
   "metadata": {},
   "outputs": [
    {
     "name": "stdin",
     "output_type": "stream",
     "text": [
      "Enter Your Gender:  female\n",
      "Enter your race/ethnicity:  group A\n",
      "Enter Your Parental Level of Education:  bachelor's degree\n",
      "Enter Your Lunch:  standard\n",
      "Enter Your Test Preparation Course:  complete\n",
      "Enter Your Reading Score:  90\n",
      "Enter Your Writing Score:  75\n"
     ]
    },
    {
     "name": "stdout",
     "output_type": "stream",
     "text": [
      "Approximated Predicted Math Score: 69\n",
      "You Passed The Maths test\n"
     ]
    }
   ],
   "source": [
    "categorical_features = ['gender', 'race/ethnicity', 'parental level of education', 'lunch', 'test preparation course']\n",
    "numerical_features = ['reading score', 'writing score']\n",
    "\n",
    "# === Build preprocessing pipeline ===\n",
    "preprocessor = ColumnTransformer(\n",
    "    transformers=[\n",
    "        ('cat', OneHotEncoder(handle_unknown='ignore'), categorical_features) #cat is a random variable name, it can be anythingsc\n",
    "    ],\n",
    "    remainder='passthrough'  # Keep numerical features as they are\n",
    ")\n",
    "\n",
    "\n",
    "# === Combine preprocessor with a regression model ===\n",
    "pipeline = Pipeline(steps=[\n",
    "    ('preprocessor', preprocessor),\n",
    "    ('regressor', LinearRegression())  # Or your model like DecisionTreeRegressor, etc.\n",
    "])\n",
    "\n",
    "# === Separate features and target from training data ===\n",
    "X = data[categorical_features + numerical_features]\n",
    "y = data['math score']\n",
    "\n",
    "# === Train the pipeline ===\n",
    "pipeline.fit(X, y)\n",
    "\n",
    "# === Now collect new user input for prediction ===\n",
    "Gender = input('Enter Your Gender: ')\n",
    "Race = input('Enter your race/ethnicity: ')\n",
    "ParentalEducation = input('Enter Your Parental Level of Education: ')\n",
    "Lunch = input('Enter Your Lunch: ')\n",
    "TestPrep = input('Enter Your Test Preparation Course: ')\n",
    "ReadingScore = int(input('Enter Your Reading Score: '))\n",
    "WritingScore = int(input('Enter Your Writing Score: '))\n",
    "\n",
    "# === Organize input into a single-row DataFrame ===\n",
    "new_input = pd.DataFrame([{\n",
    "    'gender': Gender,\n",
    "    'race/ethnicity': Race,\n",
    "    'parental level of education': ParentalEducation,\n",
    "    'lunch': Lunch,\n",
    "    'test preparation course': TestPrep,\n",
    "    'reading score': ReadingScore,\n",
    "    'writing score': WritingScore\n",
    "}])\n",
    "\n",
    "# === Make prediction ===\n",
    "prediction = pipeline.predict(new_input)\n",
    "print(\"Approximated Predicted Math Score:\", round(prediction[0]))\n",
    "\n",
    "if prediction >= 60:\n",
    "    print('You Passed The Maths test')\n",
    "if prediction < 60:\n",
    "    print('You Failed The Maths Test')\n",
    "\n"
   ]
  },
  {
   "cell_type": "code",
   "execution_count": 19,
   "id": "0e745f6e-f62a-4509-885b-f897d61b7c75",
   "metadata": {},
   "outputs": [
    {
     "data": {
      "text/plain": [
       "['Student_Performance.pkl']"
      ]
     },
     "execution_count": 19,
     "metadata": {},
     "output_type": "execute_result"
    }
   ],
   "source": [
    "joblib.dump(pipeline, 'Student_Performance.pkl')"
   ]
  },
  {
   "cell_type": "code",
   "execution_count": null,
   "id": "5a3434e4-9bb8-492f-abe5-f39c64b05833",
   "metadata": {},
   "outputs": [],
   "source": []
  }
 ],
 "metadata": {
  "kernelspec": {
   "display_name": "Python [conda env:base] *",
   "language": "python",
   "name": "conda-base-py"
  },
  "language_info": {
   "codemirror_mode": {
    "name": "ipython",
    "version": 3
   },
   "file_extension": ".py",
   "mimetype": "text/x-python",
   "name": "python",
   "nbconvert_exporter": "python",
   "pygments_lexer": "ipython3",
   "version": "3.12.7"
  }
 },
 "nbformat": 4,
 "nbformat_minor": 5
}
